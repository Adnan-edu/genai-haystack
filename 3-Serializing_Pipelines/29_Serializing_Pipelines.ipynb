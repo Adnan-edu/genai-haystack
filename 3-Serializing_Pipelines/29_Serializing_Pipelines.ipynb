{
  "cells": [
    {
      "cell_type": "markdown",
      "metadata": {
        "id": "cFFW8D-weE2S"
      },
      "source": [
        "# Tutorial: Serializing LLM Pipelines\n",
        "\n",
        "- **Level**: Beginner\n",
        "- **Time to complete**: 10 minutes\n",
        "- **Components Used**: [`HuggingFaceLocalGenerator`](https://docs.haystack.deepset.ai/docs/huggingfacelocalgenerator), [`PromptBuilder`](https://docs.haystack.deepset.ai/docs/promptbuilder)\n",
        "- **Prerequisites**: None\n",
        "- **Goal**: After completing this tutorial, you'll understand how to serialize and deserialize between YAML and Python code.\n",
        "\n",
        "> This tutorial uses Haystack 2.0. To learn more, read the [Haystack 2.0 announcement](https://haystack.deepset.ai/blog/haystack-2-release) or visit the [Haystack 2.0 Documentation](https://docs.haystack.deepset.ai/docs/intro)."
      ]
    },
    {
      "cell_type": "markdown",
      "metadata": {
        "id": "DxhqjpHfenQl"
      },
      "source": [
        "## Overview\n",
        "\n",
        "**📚 Useful Documentation:** [Serialization](https://docs.haystack.deepset.ai/docs/serialization)\n",
        "\n",
        "Serialization means converting a pipeline to a format that you can save on your disk and load later. It's especially useful because a serialized pipeline can be saved on disk or a database, get sent over a network and more.\n",
        "\n",
        "Although it's possible to serialize into other formats too, Haystack supports YAML out of the box to make it easy for humans to make changes without the need to go back and forth with Python code. In this tutorial, we will create a very simple pipeline in Python code, serialize it into YAML, make changes to it, and deserialize it back into a Haystack `Pipeline`."
      ]
    },
    {
      "cell_type": "markdown",
      "metadata": {
        "id": "9smrsiIqfS7J"
      },
      "source": [
        "## Preparing the Colab Environment\n",
        "\n",
        "- [Enable GPU Runtime in Colab](https://docs.haystack.deepset.ai/docs/enabling-gpu-acceleration)\n",
        "- [Set logging level to INFO](https://docs.haystack.deepset.ai/docs/logging)"
      ]
    },
    {
      "cell_type": "markdown",
      "metadata": {
        "id": "TLaHxdJcfWtI"
      },
      "source": [
        "## Installing Haystack\n",
        "\n",
        "Install Haystack 2.0 with `pip`:"
      ]
    },
    {
      "cell_type": "code",
      "execution_count": 1,
      "metadata": {
        "colab": {
          "base_uri": "https://localhost:8080/"
        },
        "id": "CagzMFdkeBBp",
        "outputId": "e304450a-24e3-4ef8-e642-1fbb573e7d55"
      },
      "outputs": [],
      "source": [
        "# %%bash\n",
        "\n",
        "# pip install haystack-ai"
      ]
    },
    {
      "cell_type": "markdown",
      "metadata": {
        "id": "MhnSGxXWHNsD"
      },
      "source": [
        "### Enabling Telemetry\n",
        "\n",
        "Knowing you're using this tutorial helps us decide where to invest our efforts to build a better product but you can always opt out by commenting the following line. See [Telemetry](https://docs.haystack.deepset.ai/docs/enabling-telemetry) for more details."
      ]
    },
    {
      "cell_type": "code",
      "execution_count": 2,
      "metadata": {
        "id": "ikIM1o9cHNcS"
      },
      "outputs": [],
      "source": [
        "# from haystack.telemetry import tutorial_running\n",
        "\n",
        "# tutorial_running(29)"
      ]
    },
    {
      "cell_type": "markdown",
      "metadata": {
        "id": "kS8rz9gGgMBb"
      },
      "source": [
        "## Creating a Simple Pipeline\n",
        "\n",
        "First, let's create a very simple pipeline that expects a `topic` from the user, and generates a summary about the topic with `google/flan-t5-large`. Feel free to modify the pipeline as you wish. Note that in this pipeline we are using a local model that we're getting from Hugging Face. We're using a relatively small, open-source LLM."
      ]
    },
    {
      "cell_type": "code",
      "execution_count": 3,
      "metadata": {
        "id": "odZJjD7KgO1g"
      },
      "outputs": [
        {
          "name": "stderr",
          "output_type": "stream",
          "text": [
            "/Users/mdashikadnan/Documents/adnanedu/python/Haystack/genai-haystack/genai-haystack/haystack_env/lib/python3.12/site-packages/haystack/core/errors.py:34: DeprecationWarning: PipelineMaxLoops is deprecated and will be remove in version '2.7.0'; use PipelineMaxComponentRuns instead.\n",
            "  warnings.warn(\n",
            "/Users/mdashikadnan/Documents/adnanedu/python/Haystack/genai-haystack/genai-haystack/haystack_env/lib/python3.12/site-packages/tqdm/auto.py:21: TqdmWarning: IProgress not found. Please update jupyter and ipywidgets. See https://ipywidgets.readthedocs.io/en/stable/user_install.html\n",
            "  from .autonotebook import tqdm as notebook_tqdm\n"
          ]
        },
        {
          "data": {
            "text/plain": [
              "<haystack.core.pipeline.pipeline.Pipeline object at 0x119e41550>\n",
              "🚅 Components\n",
              "  - builder: PromptBuilder\n",
              "  - llm: HuggingFaceLocalGenerator\n",
              "🛤️ Connections\n",
              "  - builder.prompt -> llm.prompt (str)"
            ]
          },
          "execution_count": 3,
          "metadata": {},
          "output_type": "execute_result"
        }
      ],
      "source": [
        "from haystack import Pipeline\n",
        "from haystack.components.builders import PromptBuilder\n",
        "from haystack.components.generators import HuggingFaceLocalGenerator\n",
        "\n",
        "template = \"\"\"\n",
        "Please create a summary about the following topic:\n",
        "{{ topic }}\n",
        "\"\"\"\n",
        "builder = PromptBuilder(template=template)\n",
        "llm = HuggingFaceLocalGenerator(\n",
        "    model=\"google/flan-t5-large\", task=\"text2text-generation\", generation_kwargs={\"max_new_tokens\": 150}\n",
        ")\n",
        "\n",
        "pipeline = Pipeline()\n",
        "pipeline.add_component(name=\"builder\", instance=builder)\n",
        "pipeline.add_component(name=\"llm\", instance=llm)\n",
        "\n",
        "pipeline.connect(\"builder\", \"llm\")"
      ]
    },
    {
      "cell_type": "code",
      "execution_count": 5,
      "metadata": {
        "colab": {
          "base_uri": "https://localhost:8080/"
        },
        "id": "W-onTCXfqFjG",
        "outputId": "e81cd5ea-db66-4f0e-f787-5aed7a7b4692"
      },
      "outputs": [
        {
          "name": "stderr",
          "output_type": "stream",
          "text": [
            "/Users/mdashikadnan/Documents/adnanedu/python/Haystack/genai-haystack/genai-haystack/haystack_env/lib/python3.12/site-packages/transformers/tokenization_utils_base.py:1617: FutureWarning: `clean_up_tokenization_spaces` was not set. It will be set to `True` by default. This behavior will be deprecated in transformers v4.45, and will be then set to `False` by default. For more details check this issue: https://github.com/huggingface/transformers/issues/31884\n",
            "  warnings.warn(\n"
          ]
        },
        {
          "name": "stdout",
          "output_type": "stream",
          "text": [
            "Climate change is a major threat to the planet.\n"
          ]
        }
      ],
      "source": [
        "topic = \"Climate change\"\n",
        "result = pipeline.run(data={\"builder\": {\"topic\": topic}})\n",
        "print(result[\"llm\"][\"replies\"][0])"
      ]
    },
    {
      "cell_type": "markdown",
      "metadata": {
        "id": "61r7hc1vuUMH"
      },
      "source": [
        "## Serialize the Pipeline to YAML\n",
        "\n",
        "Out of the box, Haystack supports YAML. Use `dumps()` to convert the pipeline to YAML:"
      ]
    },
    {
      "cell_type": "code",
      "execution_count": 6,
      "metadata": {
        "colab": {
          "base_uri": "https://localhost:8080/"
        },
        "id": "vYOEAesbrn4w",
        "outputId": "ef037904-79f4-46a4-c8e7-d03ea8dcb6c2"
      },
      "outputs": [
        {
          "name": "stdout",
          "output_type": "stream",
          "text": [
            "components:\n",
            "  builder:\n",
            "    init_parameters:\n",
            "      required_variables: null\n",
            "      template: '\n",
            "\n",
            "        Please create a summary about the following topic:\n",
            "\n",
            "        {{ topic }}\n",
            "\n",
            "        '\n",
            "      variables: null\n",
            "    type: haystack.components.builders.prompt_builder.PromptBuilder\n",
            "  llm:\n",
            "    init_parameters:\n",
            "      generation_kwargs:\n",
            "        max_new_tokens: 150\n",
            "      huggingface_pipeline_kwargs:\n",
            "        device: mps\n",
            "        model: google/flan-t5-large\n",
            "        task: text2text-generation\n",
            "      stop_words: null\n",
            "      streaming_callback: null\n",
            "      token:\n",
            "        env_vars:\n",
            "        - HF_API_TOKEN\n",
            "        - HF_TOKEN\n",
            "        strict: false\n",
            "        type: env_var\n",
            "    type: haystack.components.generators.hugging_face_local.HuggingFaceLocalGenerator\n",
            "connections:\n",
            "- receiver: llm.prompt\n",
            "  sender: builder.prompt\n",
            "max_runs_per_component: 100\n",
            "metadata: {}\n",
            "\n"
          ]
        }
      ],
      "source": [
        "yaml_pipeline = pipeline.dumps()\n",
        "\n",
        "print(yaml_pipeline)"
      ]
    },
    {
      "cell_type": "markdown",
      "metadata": {
        "id": "0C7zGsUCGszq"
      },
      "source": [
        "You should get a pipeline YAML that looks like the following:\n",
        "\n",
        "```yaml\n",
        "components:\n",
        "  builder:\n",
        "    init_parameters:\n",
        "      template: \"\\nPlease create a summary about the following topic: \\n{{ topic }}\\n\"\n",
        "    type: haystack.components.builders.prompt_builder.PromptBuilder\n",
        "  llm:\n",
        "    init_parameters:\n",
        "      generation_kwargs:\n",
        "        max_new_tokens: 150\n",
        "      huggingface_pipeline_kwargs:\n",
        "        device: cpu\n",
        "        model: google/flan-t5-large\n",
        "        task: text2text-generation\n",
        "        token: null\n",
        "      stop_words: null\n",
        "    type: haystack.components.generators.hugging_face_local.HuggingFaceLocalGenerator\n",
        "connections:\n",
        "- receiver: llm.prompt\n",
        "  sender: builder.prompt\n",
        "max_runs_per_component: 100\n",
        "metadata: {}\n",
        "\n",
        "```"
      ]
    },
    {
      "cell_type": "markdown",
      "metadata": {
        "id": "f9MknQ-1vQ8r"
      },
      "source": [
        "## Editing a Pipeline in YAML\n",
        "\n",
        "Let's see how we can make changes to serialized pipelines. For example, below, let's modify the promptbuilder's template to translate provided `sentence` to French:"
      ]
    },
    {
      "cell_type": "code",
      "execution_count": 8,
      "metadata": {
        "id": "U332-VjovFfn"
      },
      "outputs": [],
      "source": [
        "yaml_pipeline = \"\"\"\n",
        "components:\n",
        "  builder:\n",
        "    init_parameters:\n",
        "      template: \"\\nPlease translate the following to French: \\n{{ sentence }}\\n\"\n",
        "    type: haystack.components.builders.prompt_builder.PromptBuilder\n",
        "  llm:\n",
        "    init_parameters:\n",
        "      generation_kwargs:\n",
        "        max_new_tokens: 150\n",
        "      huggingface_pipeline_kwargs:\n",
        "        device: cpu\n",
        "        model: google/flan-t5-large\n",
        "        task: text2text-generation\n",
        "        token: null\n",
        "      stop_words: null\n",
        "    type: haystack.components.generators.hugging_face_local.HuggingFaceLocalGenerator\n",
        "connections:\n",
        "- receiver: llm.prompt\n",
        "  sender: builder.prompt\n",
        "max_runs_per_component: 100\n",
        "metadata: {}\n",
        "\"\"\""
      ]
    },
    {
      "cell_type": "markdown",
      "metadata": {
        "id": "xLBtgY0Ov8nX"
      },
      "source": [
        "## Deseriazling a YAML Pipeline back to Python\n",
        "\n",
        "You can deserialize a pipeline by calling `loads()`. Below, we're deserializing our edited `yaml_pipeline`:"
      ]
    },
    {
      "cell_type": "code",
      "execution_count": 9,
      "metadata": {
        "id": "OdlLnw-9wVN-"
      },
      "outputs": [],
      "source": [
        "from haystack import Pipeline\n",
        "from haystack.components.builders import PromptBuilder\n",
        "from haystack.components.generators import HuggingFaceLocalGenerator\n",
        "\n",
        "new_pipeline = Pipeline.loads(yaml_pipeline)"
      ]
    },
    {
      "cell_type": "markdown",
      "metadata": {
        "id": "eVPh2cV6wcu9"
      },
      "source": [
        "Now we can run the new pipeline we defined in YAML. We had changed it so that the `PromptBuilder` expects a `sentence` and translates the sentence to French:"
      ]
    },
    {
      "cell_type": "code",
      "execution_count": 10,
      "metadata": {
        "colab": {
          "base_uri": "https://localhost:8080/"
        },
        "id": "oGLi3EB_wbu6",
        "outputId": "ec6eae9f-a7ea-401d-c0ab-792748f6db6f"
      },
      "outputs": [
        {
          "data": {
            "text/plain": [
              "{'llm': {'replies': ['Je me félicite des capybaras !']}}"
            ]
          },
          "execution_count": 10,
          "metadata": {},
          "output_type": "execute_result"
        }
      ],
      "source": [
        "new_pipeline.run(data={\"builder\": {\"sentence\": \"I love capybaras\"}})"
      ]
    },
    {
      "cell_type": "markdown",
      "metadata": {
        "id": "gZpgTc_m2Pzp"
      },
      "source": [
        "## What's next\n",
        "\n",
        "🎉 Congratulations! You've serialzed a pipeline into YAML, edited it and ran it again!\n",
        "\n",
        "If you liked this tutorial, you may also enjoy:\n",
        "-  [Creating Your First QA Pipeline with Retrieval-Augmentation](https://haystack.deepset.ai/tutorials/27_first_rag_pipeline)\n",
        "\n",
        "To stay up to date on the latest Haystack developments, you can [sign up for our newsletter](https://landing.deepset.ai/haystack-community-updates). Thanks for reading!"
      ]
    }
  ],
  "metadata": {
    "colab": {
      "provenance": []
    },
    "kernelspec": {
      "display_name": "Python 3",
      "name": "python3"
    },
    "language_info": {
      "codemirror_mode": {
        "name": "ipython",
        "version": 3
      },
      "file_extension": ".py",
      "mimetype": "text/x-python",
      "name": "python",
      "nbconvert_exporter": "python",
      "pygments_lexer": "ipython3",
      "version": "3.12.0"
    }
  },
  "nbformat": 4,
  "nbformat_minor": 0
}
